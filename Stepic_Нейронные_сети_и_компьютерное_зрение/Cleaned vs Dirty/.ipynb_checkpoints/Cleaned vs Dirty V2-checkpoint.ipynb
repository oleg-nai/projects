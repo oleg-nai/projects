{
 "cells": [
  {
   "cell_type": "code",
   "execution_count": 2,
   "metadata": {},
   "outputs": [
    {
     "name": "stdout",
     "output_type": "stream",
     "text": [
      "Downloading platesv2.zip to c:\\Users\\programming\\stepic_Нейронные сети и компьютерное зрение\\Cleaned vs Dirty\n",
      "\n",
      "\n",
      "  0%|          | 0.00/47.0M [00:00<?, ?B/s]\n",
      "  2%|▏         | 1.00M/47.0M [00:00<00:05, 9.53MB/s]\n",
      "  9%|▊         | 4.00M/47.0M [00:00<00:03, 12.0MB/s]\n",
      " 13%|█▎        | 6.00M/47.0M [00:00<00:03, 12.8MB/s]\n",
      " 19%|█▉        | 9.00M/47.0M [00:00<00:02, 15.3MB/s]\n",
      " 26%|██▌       | 12.0M/47.0M [00:00<00:02, 17.8MB/s]\n",
      " 32%|███▏      | 15.0M/47.0M [00:00<00:01, 20.4MB/s]\n",
      " 38%|███▊      | 18.0M/47.0M [00:00<00:01, 17.7MB/s]\n",
      " 47%|████▋     | 22.0M/47.0M [00:01<00:01, 20.4MB/s]\n",
      " 55%|█████▌    | 26.0M/47.0M [00:01<00:00, 23.0MB/s]\n",
      " 64%|██████▍   | 30.0M/47.0M [00:01<00:00, 25.4MB/s]\n",
      " 70%|███████   | 33.0M/47.0M [00:01<00:00, 21.6MB/s]\n",
      " 77%|███████▋  | 36.0M/47.0M [00:01<00:00, 17.5MB/s]\n",
      " 83%|████████▎ | 39.0M/47.0M [00:02<00:00, 15.4MB/s]\n",
      " 87%|████████▋ | 41.0M/47.0M [00:02<00:00, 14.3MB/s]\n",
      " 91%|█████████▏| 43.0M/47.0M [00:02<00:00, 13.7MB/s]\n",
      " 96%|█████████▌| 45.0M/47.0M [00:02<00:00, 13.0MB/s]\n",
      "100%|█████████▉| 47.0M/47.0M [00:02<00:00, 13.1MB/s]\n",
      "100%|██████████| 47.0M/47.0M [00:02<00:00, 18.3MB/s]\n"
     ]
    }
   ],
   "source": [
    "!kaggle competitions download -c platesv2"
   ]
  },
  {
   "cell_type": "code",
   "execution_count": 7,
   "metadata": {},
   "outputs": [],
   "source": [
    "import zipfile\n",
    "with zipfile.ZipFile('platesv2.zip', 'r') as zip_obj:\n",
    "   zip_obj.extractall('working/')\n",
    "    "
   ]
  },
  {
   "cell_type": "code",
   "execution_count": 8,
   "metadata": {},
   "outputs": [],
   "source": [
    "train_dir = 'train'\n",
    "val_dir = 'val'\n",
    "\n",
    "class_names = ['cleaned', 'dirty']\n",
    "\n",
    "for dir_name in [train_dir, val_dir]: # создает папки train -> cleaned, dirty, и val -> -||-\n",
    "    for class_name in class_names:\n",
    "        os.makedirs(os.path.join(dir_name, class_name), exist_ok=True)"
   ]
  },
  {
   "cell_type": "code",
   "execution_count": 17,
   "metadata": {},
   "outputs": [
    {
     "name": "stderr",
     "output_type": "stream",
     "text": [
      "100%|██████████| 21/21 [00:00<00:00, 726.11it/s]\n",
      "100%|██████████| 21/21 [00:00<00:00, 751.85it/s]\n"
     ]
    }
   ],
   "source": [
    "import shutil \n",
    "from tqdm import tqdm\n",
    "\n",
    "data_root = 'working/plates'\n",
    "for class_name in class_names:\n",
    "    source_dir = os.path.join(data_root, 'train', class_name)\n",
    "    for i, file_name in enumerate(tqdm(os.listdir(source_dir))):\n",
    "        if i % 6 != 0:\n",
    "            dest_dir = os.path.join(train_dir, class_name) \n",
    "        else:\n",
    "            dest_dir = os.path.join(val_dir, class_name)\n",
    "        shutil.copy(os.path.join(source_dir, file_name), os.path.join(dest_dir, file_name))"
   ]
  },
  {
   "cell_type": "code",
   "execution_count": 22,
   "metadata": {},
   "outputs": [
    {
     "ename": "ModuleNotFoundError",
     "evalue": "No module named 'torchvision'",
     "output_type": "error",
     "traceback": [
      "\u001b[1;31m---------------------------------------------------------------------------\u001b[0m",
      "\u001b[1;31mModuleNotFoundError\u001b[0m                       Traceback (most recent call last)",
      "\u001b[1;32m<ipython-input-22-bf5e39a11f7e>\u001b[0m in \u001b[0;36m<module>\u001b[1;34m\u001b[0m\n\u001b[0;32m      1\u001b[0m \u001b[1;32mimport\u001b[0m \u001b[0mtorch\u001b[0m\u001b[1;33m\u001b[0m\u001b[1;33m\u001b[0m\u001b[0m\n\u001b[0;32m      2\u001b[0m \u001b[1;32mimport\u001b[0m \u001b[0mnumpy\u001b[0m \u001b[1;32mas\u001b[0m \u001b[0mnp\u001b[0m\u001b[1;33m\u001b[0m\u001b[1;33m\u001b[0m\u001b[0m\n\u001b[1;32m----> 3\u001b[1;33m \u001b[1;32mimport\u001b[0m \u001b[0mtorchvision\u001b[0m\u001b[1;33m\u001b[0m\u001b[1;33m\u001b[0m\u001b[0m\n\u001b[0m\u001b[0;32m      4\u001b[0m \u001b[1;32mimport\u001b[0m \u001b[0mmatplotlib\u001b[0m\u001b[1;33m.\u001b[0m\u001b[0mpyplot\u001b[0m \u001b[1;32mas\u001b[0m \u001b[0mplt\u001b[0m\u001b[1;33m\u001b[0m\u001b[1;33m\u001b[0m\u001b[0m\n\u001b[0;32m      5\u001b[0m \u001b[1;32mimport\u001b[0m \u001b[0mtime\u001b[0m\u001b[1;33m\u001b[0m\u001b[1;33m\u001b[0m\u001b[0m\n",
      "\u001b[1;31mModuleNotFoundError\u001b[0m: No module named 'torchvision'"
     ]
    }
   ],
   "source": [
    "import torch\n",
    "import numpy as np\n",
    "import torchvision\n",
    "import matplotlib.pyplot as plt\n",
    "import time\n",
    "import copy\n",
    "from torchvision import transforms, models\n",
    "\n",
    "train_transforms = transforms.Compose([\n",
    "    transforms.RandomResizedCrop(224),\n",
    "    transforms.RandomHorizontalFlip(),\n",
    "    transforms.ToTensor(),\n",
    "    transforms.Normalize([0.485, 0.456, 0.406], [0.229, 0.224, 0.225])\n",
    "])\n",
    "\n",
    "val_transforms = transforms.Compose([\n",
    "    transforms.Resize((224, 224)),\n",
    "    transforms.ToTensor(),\n",
    "    transforms.Normalize([0.485, 0.456, 0.406], [0.229, 0.224, 0.225])\n",
    "])\n",
    "\n",
    "train_dataset = torchvision.datasets.ImageFolder(train_dir, train_transforms)\n",
    "val_dataset = torchvision.datasets.ImageFolder(val_dir, val_transforms)\n",
    "\n",
    "batch_size = 8\n",
    "train_dataloader = torch.utils.data.DataLoader(\n",
    "    train_dataset, batch_size=batch_size, shuffle=True, num_workers=batch_size)\n",
    "val_dataloader = torch.utils.data.DataLoader(\n",
    "    val_dataset, batch_size=batch_size, shuffle=False, num_workers=batch_size)"
   ]
  },
  {
   "cell_type": "code",
   "execution_count": null,
   "metadata": {},
   "outputs": [],
   "source": []
  }
 ],
 "metadata": {
  "kernelspec": {
   "display_name": "Python 3",
   "language": "python",
   "name": "python3"
  },
  "language_info": {
   "codemirror_mode": {
    "name": "ipython",
    "version": 3
   },
   "file_extension": ".py",
   "mimetype": "text/x-python",
   "name": "python",
   "nbconvert_exporter": "python",
   "pygments_lexer": "ipython3",
   "version": "3.7.4"
  }
 },
 "nbformat": 4,
 "nbformat_minor": 2
}
