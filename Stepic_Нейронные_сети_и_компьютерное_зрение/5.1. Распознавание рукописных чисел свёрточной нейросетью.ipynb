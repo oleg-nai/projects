{
 "cells": [
  {
   "cell_type": "markdown",
   "metadata": {
    "id": "14icu4JgZXqM"
   },
   "source": [
    "##LeNet\n",
    "![alt text](https://i.gyazo.com/57d81430a6a171f74ff6aeb8afa0ab4f.png)"
   ]
  },
  {
   "cell_type": "code",
   "execution_count": null,
   "metadata": {
    "id": "85_HkTjcNZeg"
   },
   "outputs": [],
   "source": [
    "import torch\n",
    "import random\n",
    "import numpy as np\n",
    "\n",
    "random.seed(0)\n",
    "np.random.seed(0)\n",
    "torch.manual_seed(0)\n",
    "torch.cuda.manual_seed(0)\n",
    "torch.backends.cudnn.deterministic = True"
   ]
  },
  {
   "cell_type": "code",
   "execution_count": null,
   "metadata": {
    "id": "kjPVw9UfNZel"
   },
   "outputs": [],
   "source": [
    "import torchvision.datasets"
   ]
  },
  {
   "cell_type": "code",
   "execution_count": null,
   "metadata": {
    "id": "buWKcUqGNZeo"
   },
   "outputs": [],
   "source": [
    "MNIST_train = torchvision.datasets.MNIST('./', download=True, train=True)\n",
    "MNIST_test = torchvision.datasets.MNIST('./', download=True, train=False)\n"
   ]
  },
  {
   "cell_type": "code",
   "execution_count": null,
   "metadata": {
    "colab": {
     "base_uri": "https://localhost:8080/"
    },
    "executionInfo": {
     "elapsed": 1225,
     "status": "ok",
     "timestamp": 1611649777723,
     "user": {
      "displayName": "Oleg Nai",
      "photoUrl": "",
      "userId": "08793324282693556978"
     },
     "user_tz": -180
    },
    "id": "nyrpGOtPNZeq",
    "outputId": "5f12eeb0-e7c2-4b42-8ba1-1f5ca5bfec5f"
   },
   "outputs": [],
   "source": [
    "X_train = MNIST_train.train_data\n",
    "y_train = MNIST_train.train_labels\n",
    "X_test = MNIST_test.test_data\n",
    "y_test = MNIST_test.test_labels"
   ]
  },
  {
   "cell_type": "code",
   "execution_count": null,
   "metadata": {
    "colab": {
     "base_uri": "https://localhost:8080/"
    },
    "executionInfo": {
     "elapsed": 1219,
     "status": "ok",
     "timestamp": 1611649777724,
     "user": {
      "displayName": "Oleg Nai",
      "photoUrl": "",
      "userId": "08793324282693556978"
     },
     "user_tz": -180
    },
    "id": "f_TmOTWdNZet",
    "outputId": "4ee45437-5acf-4372-d5fe-987220d1421f"
   },
   "outputs": [],
   "source": [
    "len(y_train), len(y_test)"
   ]
  },
  {
   "cell_type": "code",
   "execution_count": null,
   "metadata": {
    "colab": {
     "base_uri": "https://localhost:8080/",
     "height": 283
    },
    "executionInfo": {
     "elapsed": 1611,
     "status": "ok",
     "timestamp": 1611649778124,
     "user": {
      "displayName": "Oleg Nai",
      "photoUrl": "",
      "userId": "08793324282693556978"
     },
     "user_tz": -180
    },
    "id": "Zd-E4vIpNZe1",
    "outputId": "2e33c8dc-abe6-40ea-eb28-ef6a007d8739"
   },
   "outputs": [],
   "source": [
    "import matplotlib.pyplot as plt\n",
    "plt.imshow(X_train[0, :, :])\n",
    "plt.show()\n",
    "print(y_train[0])"
   ]
  },
  {
   "cell_type": "code",
   "execution_count": null,
   "metadata": {
    "id": "Tf9LiDGuNZe6"
   },
   "outputs": [],
   "source": [
    "'''y\n",
    "Первое отличие заключается в том, что, в отличие от полносвязанной сети, \n",
    "которая видела картинку как один вектор длинный, мы хотим в конволюционную (сверточную)\n",
    "сеть передавать картинку как трёхмерный тензор. \n",
    "Первый канал -- это глубина картинки, в черно-белой картинке это 1 канал с яркостью серого пикселя. \n",
    "А в RGB картинке будут RGB каналы. Соответственно, \n",
    "мы должны нашу картинку, которая на вход пришла (она просто \"28 на 28\"), разжать до \"1 на 28 на 28\". \n",
    "'''\n",
    "\n",
    "# unsqueeze: \n",
    "# Returns a new tensor with a dimension of size one inserted at the specified position.\n",
    "# The returned tensor shares the same underlying data with this tensor.\n",
    "\n",
    "X_train = X_train.unsqueeze(1).float()\n",
    "X_test = X_test.unsqueeze(1).float()\n"
   ]
  },
  {
   "cell_type": "code",
   "execution_count": null,
   "metadata": {
    "colab": {
     "base_uri": "https://localhost:8080/"
    },
    "executionInfo": {
     "elapsed": 1599,
     "status": "ok",
     "timestamp": 1611649778125,
     "user": {
      "displayName": "Oleg Nai",
      "photoUrl": "",
      "userId": "08793324282693556978"
     },
     "user_tz": -180
    },
    "id": "UrpEJI9eNVPm",
    "outputId": "d77438ca-6dfe-47e1-c1b4-33d60baf948e"
   },
   "outputs": [],
   "source": [
    "X_train.shape"
   ]
  },
  {
   "cell_type": "code",
   "execution_count": null,
   "metadata": {
    "id": "xhsw9soDODel"
   },
   "outputs": [],
   "source": [
    "class LeNet5(torch.nn.Module):\n",
    "    def __init__(self):\n",
    "        super(LeNet5, self).__init__() \n",
    "        \n",
    "        self.conv1 = torch.nn.Conv2d(\n",
    "            in_channels=1, out_channels=6, kernel_size=5, padding=2) # 28x28 ->(pad) 32x32 -> 28x28\n",
    "        self.act1  = torch.nn.ReLU()\n",
    "        self.pool1 = torch.nn.AvgPool2d(kernel_size=2, stride=2) # 28x28 -> 14x14\n",
    "       \n",
    "        self.conv2 = torch.nn.Conv2d(\n",
    "            in_channels=6, out_channels=16, kernel_size=5, padding=0) # 14x14 -> 10x10\n",
    "        self.act2  = torch.nn.ReLU()\n",
    "        self.pool2 = torch.nn.AvgPool2d(kernel_size=2, stride=2) # 10x10 -> 5x5\n",
    "        \n",
    "        self.fc1   = torch.nn.Linear(5 * 5 * 16, 120) # 400 -> 120\n",
    "        self.act3  = torch.nn.ReLU()\n",
    "        \n",
    "        self.fc2   = torch.nn.Linear(120, 84)\n",
    "        self.act4  = torch.nn.ReLU()\n",
    "        \n",
    "        self.fc3   = torch.nn.Linear(84, 10)\n",
    "    \n",
    "    def forward(self, x):\n",
    "        # Входной тензор X -- это, батч из картинок\n",
    "        x = self.conv1(x)\n",
    "        x = self.act1(x)\n",
    "        x = self.pool1(x)\n",
    "        \n",
    "        x = self.conv2(x)\n",
    "        x = self.act2(x)\n",
    "        x = self.pool2(x)\n",
    "        \n",
    "        # У PyTorch-тензоров есть функция view, которая наш тензор преобразует к нужной размерности. \n",
    "        # Первая размерность будет x.size[0] -- это размер батча, а дальше тензор будет одномерный,\n",
    "        # соответственно мы вот эти три размерности должны просто перемножить и получить 400.\n",
    "        x = x.view(x.size(0), x.size(1) * x.size(2) * x.size(3))\n",
    "\n",
    "        x = self.fc1(x)\n",
    "        x = self.act3(x)\n",
    "        x = self.fc2(x)\n",
    "        x = self.act4(x)\n",
    "        x = self.fc3(x)\n",
    "        \n",
    "        return x\n",
    "    \n",
    "lenet5 = LeNet5()"
   ]
  },
  {
   "cell_type": "code",
   "execution_count": null,
   "metadata": {
    "id": "qT-PsO7VNZfB"
   },
   "outputs": [],
   "source": [
    "# чтобы работать на GPU\n",
    "device = torch.device('cuda:0' if torch.cuda.is_available() else 'cpu')\n",
    "lenet5 = lenet5.to(device)"
   ]
  },
  {
   "cell_type": "code",
   "execution_count": null,
   "metadata": {
    "id": "rkK0kv1VNZfL"
   },
   "outputs": [],
   "source": [
    "loss = torch.nn.CrossEntropyLoss()\n",
    "optimizer = torch.optim.Adam(lenet5.parameters(), lr=1.0e-3)"
   ]
  },
  {
   "cell_type": "code",
   "execution_count": null,
   "metadata": {
    "colab": {
     "base_uri": "https://localhost:8080/"
    },
    "id": "XfA9gqSdNZfQ",
    "outputId": "8a20ac72-48ee-4c19-9863-315efc4a5c06",
    "scrolled": false
   },
   "outputs": [],
   "source": [
    "# описание процесса обучения\n",
    "\n",
    "batch_size = 50\n",
    "\n",
    "test_accuracy_history = []\n",
    "test_loss_history = []\n",
    "\n",
    "# X_test = X_test.to(device)\n",
    "# y_test = y_test.to(device)\n",
    "\n",
    "for epoch in range(20):\n",
    "    order = np.random.permutation(len(X_train))\n",
    "    for start_index in range(0, len(X_train), batch_size):\n",
    "        optimizer.zero_grad()\n",
    "        \n",
    "        batch_indexes = order[start_index:start_index+batch_size]\n",
    "        \n",
    "        X_batch = X_train[batch_indexes].to(device)\n",
    "        y_batch = y_train[batch_indexes].to(device)\n",
    "        \n",
    "        preds = lenet5.forward(X_batch) \n",
    "        \n",
    "        loss_value = loss(preds, y_batch)\n",
    "        loss_value.backward()\n",
    "        \n",
    "        optimizer.step()\n",
    "        \n",
    "\n",
    "        \n",
    "#     test_preds = lenet5.forward(X_test)\n",
    "#     test_loss_history.append(loss(test_preds, y_test).data.cpu())\n",
    "#     accuracy = (test_preds.argmax(dim=1) == y_test).float().mean().data.cpu() # пеневодим в float, потому что от int нельзя взять mean\n",
    "#     test_accuracy_history.append(accuracy)\n",
    "    \n",
    "    print(\"я еще жив\")\n",
    "\n",
    "    # чтобы избежать утечки памяти, нужно обязательно поставить .data, иначе объект, \n",
    "    # который мы кладем в list, будет хранить в себе весь граф вычислений\n",
    "    # в loss хранится весь граф, который нам помогает потом градиенты обсчитать."
   ]
  },
  {
   "cell_type": "code",
   "execution_count": null,
   "metadata": {
    "id": "H4hjogO8NZfS"
   },
   "outputs": [],
   "source": [
    "lenet5.forward(X_test)"
   ]
  },
  {
   "cell_type": "code",
   "execution_count": null,
   "metadata": {
    "id": "4FDtagQvNZfU"
   },
   "outputs": [],
   "source": [
    "# plt.plot(test_accuracy_history);\n",
    "plt.plot(test_loss_history);"
   ]
  },
  {
   "cell_type": "code",
   "execution_count": null,
   "metadata": {
    "id": "vta37dlSNZfZ"
   },
   "outputs": [],
   "source": [
    "# для подбора нужного паддинга\n",
    "\n",
    "import torch\n",
    "\n",
    "N = 4\n",
    "C = 3\n",
    "C_out = 10\n",
    "H = 8\n",
    "W = 16\n",
    "\n",
    "x = torch.ones((N, C, H, W))\n",
    "\n",
    "# torch.Size([4, 10, 9, 17])\n",
    "out8 = torch.nn.Conv2d(C, C_out, kernel_size=(2, 2), padding=1)(x)\n",
    "print(out8.shape) # для самопроверки"
   ]
  }
 ],
 "metadata": {
  "accelerator": "GPU",
  "colab": {
   "collapsed_sections": [],
   "name": "5.6. Распознавание рукописных чисел свёрточной нейросетью.ipynb",
   "provenance": [
    {
     "file_id": "1z_p_wQmOJ1PuuZReXGv0XuXdLXZJ9h4h",
     "timestamp": 1611639202129
    },
    {
     "file_id": "https://github.com/SlinkoIgor/Neural_Networks_and_CV/blob/master/module05_mnist_conv.ipynb",
     "timestamp": 1611639116759
    }
   ]
  },
  "kernelspec": {
   "display_name": "Python 3",
   "language": "python",
   "name": "python3"
  },
  "language_info": {
   "codemirror_mode": {
    "name": "ipython",
    "version": 3
   },
   "file_extension": ".py",
   "mimetype": "text/x-python",
   "name": "python",
   "nbconvert_exporter": "python",
   "pygments_lexer": "ipython3",
   "version": "3.7.4"
  }
 },
 "nbformat": 4,
 "nbformat_minor": 1
}
